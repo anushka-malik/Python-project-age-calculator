{
 "cells": [
  {
   "cell_type": "code",
   "execution_count": 3,
   "id": "af6c1799",
   "metadata": {},
   "outputs": [],
   "source": [
    "from datetime import datetime\n",
    "\n",
    "def calculate_age(birth_date):\n",
    "    today = datetime.now()\n",
    "    age = today.year - birth_date.year - ((today.month, today.day) < (birth_date.month, birth_date.day))\n",
    "    return age\n",
    "\n",
    "def main():\n",
    "    try:\n",
    "        birth_year = int(input(\"Enter your birth year: \"))\n",
    "        birth_month = int(input(\"Enter your birth month: \"))\n",
    "        birth_day = int(input(\"Enter your birth day: \"))\n",
    "        birth_date = datetime(birth_year, birth_month, birth_day)\n",
    "        age = calculate_age(birth_date)\n",
    "        if age<1:\n",
    "            print(\"invalid input! Future date entered !\");\n",
    "        else:\n",
    "            print(\"You are {} years old.\".format(age))\n",
    "    except ValueError:\n",
    "        print(\"Invalid input. Please enter a valid date of birth.\")\n",
    "\n",
    "if __name__ == \"__main__\":\n",
    "    main()\n"
   ]
  },
  {
   "cell_type": "code",
   "execution_count": null,
   "id": "cf527a58",
   "metadata": {},
   "outputs": [],
   "source": []
  }
 ],
 "metadata": {
  "kernelspec": {
   "display_name": "Python 3 (ipykernel)",
   "language": "python",
   "name": "python3"
  },
  "language_info": {
   "codemirror_mode": {
    "name": "ipython",
    "version": 3
   },
   "file_extension": ".py",
   "mimetype": "text/x-python",
   "name": "python",
   "nbconvert_exporter": "python",
   "pygments_lexer": "ipython3",
   "version": "3.11.5"
  }
 },
 "nbformat": 4,
 "nbformat_minor": 5
}
